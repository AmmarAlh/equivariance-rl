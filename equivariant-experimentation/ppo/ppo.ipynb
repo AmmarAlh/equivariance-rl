{
 "cells": [
  {
   "cell_type": "code",
   "execution_count": 12,
   "metadata": {},
   "outputs": [],
   "source": [
    "from typing import Callable\n",
    "import gymnasium as gym\n",
    "import torch\n",
    "import torch.nn as nn\n",
    "import numpy as np\n",
    "from torch.distributions import Normal\n",
    "\n",
    "\n",
    "from emlp.nn import uniform_rep\n",
    "from emlp.reps import Rep, Scalar, Vector, T\n",
    "from emlp.groups import SO, D, C, O, Trivial\n",
    "import emlp.nn.pytorch as eqnn\n",
    "from emlp.nn.pytorch import EMLPBlock, Linear\n",
    "\n",
    "\n",
    "\n",
    "def evaluate(\n",
    "    model_path: str,\n",
    "    make_env: Callable,\n",
    "    env_id: str,\n",
    "    eval_episodes: int,\n",
    "    run_name: str,\n",
    "    Model: torch.nn.Module,\n",
    "    device: torch.device = torch.device(\"cpu\"),\n",
    "    capture_video: bool = True,\n",
    "    gamma: float = 0.99,\n",
    "):\n",
    "    G = C(4)\n",
    "\n",
    "    state_rep = Vector(G) + 2 * Scalar(G) + Vector(G) + 2 * Scalar(G) + Vector(G) + Scalar(G) \n",
    "    action_rep = 2*Scalar(G)\n",
    "\n",
    "    envs = gym.vector.SyncVectorEnv([make_env(env_id, 0, capture_video, run_name, gamma)])\n",
    "    agent = Model(envs, state_rep,action_rep, G).to(device)\n",
    "    agent.load_state_dict(torch.load(model_path, map_location=device))\n",
    "    agent.eval()\n",
    "\n",
    "    obs, _ = envs.reset()\n",
    "    episodic_returns = []\n",
    "    while len(episodic_returns) < eval_episodes:\n",
    "        actions, _, _, _ = agent.get_action_and_value(torch.Tensor(obs).to(device))\n",
    "        next_obs, _, _, _, infos = envs.step(actions.cpu().numpy())\n",
    "        if \"final_info\" in infos:\n",
    "            for info in infos[\"final_info\"]:\n",
    "                if \"episode\" not in info:\n",
    "                    continue\n",
    "                print(f\"eval_episode={len(episodic_returns)}, episodic_return={info['episode']['r']}\")\n",
    "                episodic_returns += [info[\"episode\"][\"r\"]]\n",
    "        obs = next_obs\n",
    "\n",
    "    return episodic_returns"
   ]
  },
  {
   "cell_type": "code",
   "execution_count": 13,
   "metadata": {},
   "outputs": [],
   "source": [
    "def make_env(env_id, idx, capture_video, run_name, gamma):\n",
    "    def thunk():\n",
    "        if capture_video and idx == 0:\n",
    "            env = gym.make(env_id, render_mode=\"rgb_array\")\n",
    "            env = gym.wrappers.RecordVideo(env, f\"videos/{run_name}\", episode_trigger=lambda ep_id: True)\n",
    "        else:\n",
    "            env = gym.make(env_id)\n",
    "        env = gym.wrappers.FlattenObservation(env)  # deal with dm_control's Dict observation space\n",
    "        env = gym.wrappers.RecordEpisodeStatistics(env)\n",
    "        env = gym.wrappers.ClipAction(env)\n",
    "        env = gym.wrappers.NormalizeObservation(env)\n",
    "        env = gym.wrappers.TransformObservation(env, lambda obs: np.clip(obs, -10, 10))\n",
    "        env = gym.wrappers.NormalizeReward(env, gamma=gamma)\n",
    "        env = gym.wrappers.TransformReward(env, lambda reward: np.clip(reward, -10, 10))\n",
    "        return env\n",
    "\n",
    "    return thunk\n",
    "\n",
    "class EquiAgent(nn.Module):\n",
    "    def __init__(self, envs, rep_in, rep_out, group, ch=256):\n",
    "        super().__init__()\n",
    "        self.rep_in = rep_in(group)\n",
    "        self.rep_out = rep_out(group)\n",
    "        self.G = group\n",
    "  \n",
    "        middle_layers = uniform_rep(ch, group)\n",
    "\n",
    "        # Define equivariant layers using EMLPBlock\n",
    "        self.actor_mean = nn.Sequential(\n",
    "            EMLPBlock(rep_in=rep_in, rep_out=middle_layers),\n",
    "            EMLPBlock(rep_in=middle_layers, rep_out=middle_layers),\n",
    "            Linear(middle_layers, self.rep_out))\n",
    "        self.actor_logstd = nn.Parameter(torch.zeros(1, np.prod(envs.single_action_space.shape)))\n",
    "        \n",
    "        self.critic = nn.Sequential(\n",
    "            EMLPBlock(rep_in=rep_in, rep_out=middle_layers),\n",
    "            EMLPBlock(rep_in=middle_layers, rep_out=middle_layers),\n",
    "            Linear(middle_layers, Scalar(group)))\n",
    "\n",
    "    def get_value(self, x):\n",
    "        return self.critic(x)\n",
    "\n",
    "    def get_action_and_value(self, x, action=None):\n",
    "        action_mean = self.actor_mean(x)\n",
    "        action_logstd = self.actor_logstd.expand_as(action_mean)\n",
    "        action_std = torch.exp(action_logstd)\n",
    "        probs = Normal(action_mean, action_std)\n",
    "        if action is None:\n",
    "            action = probs.sample()\n",
    "        return action, probs.log_prob(action).sum(1), probs.entropy().sum(1), self.critic(x)"
   ]
  },
  {
   "cell_type": "code",
   "execution_count": 14,
   "metadata": {},
   "outputs": [
    {
     "name": "stderr",
     "output_type": "stream",
     "text": [
      "/home/ammaral/miniconda3/envs/cleanrl/lib/python3.10/site-packages/gymnasium/wrappers/record_video.py:94: UserWarning: \u001b[33mWARN: Overwriting existing videos at /home/ammaral/Projects/equivaraince-rl/equivariant-experimentation/ppo/videos/eval folder (try specifying a different `video_folder` for the `RecordVideo` wrapper if this is not desired)\u001b[0m\n",
      "  logger.warn(\n",
      "/tmp/ipykernel_864467/736608285.py:35: FutureWarning: You are using `torch.load` with `weights_only=False` (the current default value), which uses the default pickle module implicitly. It is possible to construct malicious pickle data which will execute arbitrary code during unpickling (See https://github.com/pytorch/pytorch/blob/main/SECURITY.md#untrusted-models for more details). In a future release, the default value for `weights_only` will be flipped to `True`. This limits the functions that could be executed during unpickling. Arbitrary objects will no longer be allowed to be loaded via this mode unless they are explicitly allowlisted by the user via `torch.serialization.add_safe_globals`. We recommend you start setting `weights_only=True` for any use case where you don't have full control of the loaded file. Please open an issue on GitHub for any issues related to this experimental feature.\n",
      "  agent.load_state_dict(torch.load(model_path, map_location=device))\n"
     ]
    },
    {
     "name": "stdout",
     "output_type": "stream",
     "text": [
      "Moviepy - Building video /home/ammaral/Projects/equivaraince-rl/equivariant-experimentation/ppo/videos/eval/rl-video-episode-0.mp4.\n",
      "Moviepy - Writing video /home/ammaral/Projects/equivaraince-rl/equivariant-experimentation/ppo/videos/eval/rl-video-episode-0.mp4\n",
      "\n"
     ]
    },
    {
     "name": "stderr",
     "output_type": "stream",
     "text": [
      "                                                             \r"
     ]
    },
    {
     "name": "stdout",
     "output_type": "stream",
     "text": [
      "Moviepy - Done !\n",
      "Moviepy - video ready /home/ammaral/Projects/equivaraince-rl/equivariant-experimentation/ppo/videos/eval/rl-video-episode-0.mp4\n",
      "eval_episode=0, episodic_return=[-15.879492]\n",
      "Moviepy - Building video /home/ammaral/Projects/equivaraince-rl/equivariant-experimentation/ppo/videos/eval/rl-video-episode-1.mp4.\n",
      "Moviepy - Writing video /home/ammaral/Projects/equivaraince-rl/equivariant-experimentation/ppo/videos/eval/rl-video-episode-1.mp4\n",
      "\n"
     ]
    },
    {
     "name": "stderr",
     "output_type": "stream",
     "text": [
      "                                                             \r"
     ]
    },
    {
     "name": "stdout",
     "output_type": "stream",
     "text": [
      "Moviepy - Done !\n",
      "Moviepy - video ready /home/ammaral/Projects/equivaraince-rl/equivariant-experimentation/ppo/videos/eval/rl-video-episode-1.mp4\n",
      "eval_episode=1, episodic_return=[-19.345537]\n",
      "Moviepy - Building video /home/ammaral/Projects/equivaraince-rl/equivariant-experimentation/ppo/videos/eval/rl-video-episode-2.mp4.\n",
      "Moviepy - Writing video /home/ammaral/Projects/equivaraince-rl/equivariant-experimentation/ppo/videos/eval/rl-video-episode-2.mp4\n",
      "\n"
     ]
    },
    {
     "name": "stderr",
     "output_type": "stream",
     "text": [
      "                                                             "
     ]
    },
    {
     "name": "stdout",
     "output_type": "stream",
     "text": [
      "Moviepy - Done !\n",
      "Moviepy - video ready /home/ammaral/Projects/equivaraince-rl/equivariant-experimentation/ppo/videos/eval/rl-video-episode-2.mp4\n"
     ]
    },
    {
     "name": "stderr",
     "output_type": "stream",
     "text": [
      "\r"
     ]
    },
    {
     "name": "stdout",
     "output_type": "stream",
     "text": [
      "eval_episode=2, episodic_return=[-42.54582]\n",
      "Moviepy - Building video /home/ammaral/Projects/equivaraince-rl/equivariant-experimentation/ppo/videos/eval/rl-video-episode-3.mp4.\n",
      "Moviepy - Writing video /home/ammaral/Projects/equivaraince-rl/equivariant-experimentation/ppo/videos/eval/rl-video-episode-3.mp4\n",
      "\n"
     ]
    },
    {
     "name": "stderr",
     "output_type": "stream",
     "text": [
      "                                                             "
     ]
    },
    {
     "name": "stdout",
     "output_type": "stream",
     "text": [
      "Moviepy - Done !\n",
      "Moviepy - video ready /home/ammaral/Projects/equivaraince-rl/equivariant-experimentation/ppo/videos/eval/rl-video-episode-3.mp4\n"
     ]
    },
    {
     "name": "stderr",
     "output_type": "stream",
     "text": [
      "\r"
     ]
    },
    {
     "name": "stdout",
     "output_type": "stream",
     "text": [
      "eval_episode=3, episodic_return=[-5.878337]\n",
      "Moviepy - Building video /home/ammaral/Projects/equivaraince-rl/equivariant-experimentation/ppo/videos/eval/rl-video-episode-4.mp4.\n",
      "Moviepy - Writing video /home/ammaral/Projects/equivaraince-rl/equivariant-experimentation/ppo/videos/eval/rl-video-episode-4.mp4\n",
      "\n"
     ]
    },
    {
     "name": "stderr",
     "output_type": "stream",
     "text": [
      "                                                             \r"
     ]
    },
    {
     "name": "stdout",
     "output_type": "stream",
     "text": [
      "Moviepy - Done !\n",
      "Moviepy - video ready /home/ammaral/Projects/equivaraince-rl/equivariant-experimentation/ppo/videos/eval/rl-video-episode-4.mp4\n",
      "eval_episode=4, episodic_return=[-12.29966]\n",
      "Moviepy - Building video /home/ammaral/Projects/equivaraince-rl/equivariant-experimentation/ppo/videos/eval/rl-video-episode-5.mp4.\n",
      "Moviepy - Writing video /home/ammaral/Projects/equivaraince-rl/equivariant-experimentation/ppo/videos/eval/rl-video-episode-5.mp4\n",
      "\n"
     ]
    },
    {
     "name": "stderr",
     "output_type": "stream",
     "text": [
      "                                                             \r"
     ]
    },
    {
     "name": "stdout",
     "output_type": "stream",
     "text": [
      "Moviepy - Done !\n",
      "Moviepy - video ready /home/ammaral/Projects/equivaraince-rl/equivariant-experimentation/ppo/videos/eval/rl-video-episode-5.mp4\n",
      "eval_episode=5, episodic_return=[-15.636309]\n",
      "Moviepy - Building video /home/ammaral/Projects/equivaraince-rl/equivariant-experimentation/ppo/videos/eval/rl-video-episode-6.mp4.\n",
      "Moviepy - Writing video /home/ammaral/Projects/equivaraince-rl/equivariant-experimentation/ppo/videos/eval/rl-video-episode-6.mp4\n",
      "\n"
     ]
    },
    {
     "name": "stderr",
     "output_type": "stream",
     "text": [
      "                                                             \r"
     ]
    },
    {
     "name": "stdout",
     "output_type": "stream",
     "text": [
      "Moviepy - Done !\n",
      "Moviepy - video ready /home/ammaral/Projects/equivaraince-rl/equivariant-experimentation/ppo/videos/eval/rl-video-episode-6.mp4\n",
      "eval_episode=6, episodic_return=[-15.737643]\n",
      "Moviepy - Building video /home/ammaral/Projects/equivaraince-rl/equivariant-experimentation/ppo/videos/eval/rl-video-episode-7.mp4.\n",
      "Moviepy - Writing video /home/ammaral/Projects/equivaraince-rl/equivariant-experimentation/ppo/videos/eval/rl-video-episode-7.mp4\n",
      "\n"
     ]
    },
    {
     "name": "stderr",
     "output_type": "stream",
     "text": [
      "                                                             "
     ]
    },
    {
     "name": "stdout",
     "output_type": "stream",
     "text": [
      "Moviepy - Done !\n",
      "Moviepy - video ready /home/ammaral/Projects/equivaraince-rl/equivariant-experimentation/ppo/videos/eval/rl-video-episode-7.mp4\n"
     ]
    },
    {
     "name": "stderr",
     "output_type": "stream",
     "text": [
      "\r"
     ]
    },
    {
     "name": "stdout",
     "output_type": "stream",
     "text": [
      "eval_episode=7, episodic_return=[-15.45548]\n",
      "Moviepy - Building video /home/ammaral/Projects/equivaraince-rl/equivariant-experimentation/ppo/videos/eval/rl-video-episode-8.mp4.\n",
      "Moviepy - Writing video /home/ammaral/Projects/equivaraince-rl/equivariant-experimentation/ppo/videos/eval/rl-video-episode-8.mp4\n",
      "\n"
     ]
    },
    {
     "name": "stderr",
     "output_type": "stream",
     "text": [
      "                                                             "
     ]
    },
    {
     "name": "stdout",
     "output_type": "stream",
     "text": [
      "Moviepy - Done !\n",
      "Moviepy - video ready /home/ammaral/Projects/equivaraince-rl/equivariant-experimentation/ppo/videos/eval/rl-video-episode-8.mp4\n",
      "eval_episode=8, episodic_return=[-6.1459336]\n"
     ]
    },
    {
     "name": "stderr",
     "output_type": "stream",
     "text": [
      "\r"
     ]
    },
    {
     "name": "stdout",
     "output_type": "stream",
     "text": [
      "Moviepy - Building video /home/ammaral/Projects/equivaraince-rl/equivariant-experimentation/ppo/videos/eval/rl-video-episode-9.mp4.\n",
      "Moviepy - Writing video /home/ammaral/Projects/equivaraince-rl/equivariant-experimentation/ppo/videos/eval/rl-video-episode-9.mp4\n",
      "\n"
     ]
    },
    {
     "name": "stderr",
     "output_type": "stream",
     "text": [
      "                                                             "
     ]
    },
    {
     "name": "stdout",
     "output_type": "stream",
     "text": [
      "Moviepy - Done !\n",
      "Moviepy - video ready /home/ammaral/Projects/equivaraince-rl/equivariant-experimentation/ppo/videos/eval/rl-video-episode-9.mp4\n"
     ]
    },
    {
     "name": "stderr",
     "output_type": "stream",
     "text": [
      "\r"
     ]
    },
    {
     "name": "stdout",
     "output_type": "stream",
     "text": [
      "eval_episode=9, episodic_return=[-10.044901]\n",
      "Moviepy - Building video /home/ammaral/Projects/equivaraince-rl/equivariant-experimentation/ppo/videos/eval/rl-video-episode-10.mp4.\n",
      "Moviepy - Writing video /home/ammaral/Projects/equivaraince-rl/equivariant-experimentation/ppo/videos/eval/rl-video-episode-10.mp4\n",
      "\n"
     ]
    },
    {
     "name": "stderr",
     "output_type": "stream",
     "text": [
      "                                                  "
     ]
    },
    {
     "name": "stdout",
     "output_type": "stream",
     "text": [
      "Moviepy - Done !\n",
      "Moviepy - video ready /home/ammaral/Projects/equivaraince-rl/equivariant-experimentation/ppo/videos/eval/rl-video-episode-10.mp4\n"
     ]
    },
    {
     "name": "stderr",
     "output_type": "stream",
     "text": [
      "\r"
     ]
    },
    {
     "data": {
      "text/plain": [
       "[array([-15.879492], dtype=float32),\n",
       " array([-19.345537], dtype=float32),\n",
       " array([-42.54582], dtype=float32),\n",
       " array([-5.878337], dtype=float32),\n",
       " array([-12.29966], dtype=float32),\n",
       " array([-15.636309], dtype=float32),\n",
       " array([-15.737643], dtype=float32),\n",
       " array([-15.45548], dtype=float32),\n",
       " array([-6.1459336], dtype=float32),\n",
       " array([-10.044901], dtype=float32)]"
      ]
     },
     "execution_count": 14,
     "metadata": {},
     "output_type": "execute_result"
    }
   ],
   "source": [
    "model_path = f\"/home/ammaral/Projects/equivaraince-rl/equivariant-experimentation/runs/Reacher-v4__ppo__1__1722807768/ppo.cleanrl_model\"\n",
    "\n",
    "evaluate(\n",
    "    model_path,\n",
    "    make_env,\n",
    "    \"Reacher-v4\",\n",
    "    eval_episodes=10,\n",
    "    run_name=f\"eval\",\n",
    "    Model=EquiAgent,\n",
    "    device=\"cuda\",\n",
    "    capture_video=True,\n",
    ")\n"
   ]
  },
  {
   "cell_type": "code",
   "execution_count": null,
   "metadata": {},
   "outputs": [],
   "source": []
  }
 ],
 "metadata": {
  "kernelspec": {
   "display_name": "cleanrl",
   "language": "python",
   "name": "python3"
  },
  "language_info": {
   "codemirror_mode": {
    "name": "ipython",
    "version": 3
   },
   "file_extension": ".py",
   "mimetype": "text/x-python",
   "name": "python",
   "nbconvert_exporter": "python",
   "pygments_lexer": "ipython3",
   "version": "3.10.14"
  }
 },
 "nbformat": 4,
 "nbformat_minor": 2
}
